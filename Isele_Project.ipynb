{
 "cells": [
  {
   "cell_type": "code",
   "execution_count": 1,
   "id": "c9e4c853",
   "metadata": {},
   "outputs": [],
   "source": [
    "# install mongodb\n",
    "pip install pymongo"
   ]
  },
  {
   "cell_type": "markdown",
   "id": "b76e7aaa",
   "metadata": {},
   "source": [
    "### Web Development with Flask"
   ]
  },
  {
   "cell_type": "code",
   "execution_count": null,
   "id": "e0ca1da0",
   "metadata": {},
   "outputs": [
    {
     "name": "stdout",
     "output_type": "stream",
     "text": [
      " * Serving Flask app '__main__'\n",
      " * Debug mode: off\n"
     ]
    },
    {
     "name": "stderr",
     "output_type": "stream",
     "text": [
      "WARNING: This is a development server. Do not use it in a production deployment. Use a production WSGI server instead.\n",
      " * Running on http://127.0.0.1:5000\n",
      "Press CTRL+C to quit\n"
     ]
    }
   ],
   "source": [
    "from flask import Flask, render_template, request, redirect, url_for\n",
    "from pymongo import MongoClient\n",
    "\n",
    "app = Flask(__name__)\n",
    "\n",
    "# Connect to MongoDB\n",
    "client = MongoClient(\"mongodb://localhost:27017/\")\n",
    "db = client[\"survey_database\"]\n",
    "collection = db[\"user_data\"]\n",
    "\n",
    "# Route to render the form\n",
    "@app.route('/')\n",
    "def index():\n",
    "    return render_template('index.html')\n",
    "\n",
    "# Route to process form submission\n",
    "@app.route('/submit', methods=['POST'])\n",
    "def submit_form():\n",
    "    # Get form data\n",
    "    age = request.form['age']\n",
    "    gender = request.form['gender']\n",
    "    total_income = request.form['total_income']\n",
    "    utilities_expense = request.form.get('utilities_expense', '')\n",
    "    entertainment_expense = request.form.get('entertainment_expense', '')\n",
    "    school_fees_expense = request.form.get('school_fees_expense', '')\n",
    "    shopping_expense = request.form.get('shopping_expense', '')\n",
    "    healthcare_expense = request.form.get('healthcare_expense', '')\n",
    "\n",
    "    # Store data in MongoDB\n",
    "    user_data = {\n",
    "        'age': age,\n",
    "        'gender': gender,\n",
    "        'total_income': total_income,\n",
    "        'expenses': {\n",
    "            'utilities': utilities_expense,\n",
    "            'entertainment': entertainment_expense,\n",
    "            'school_fees': school_fees_expense,\n",
    "            'shopping': shopping_expense,\n",
    "            'healthcare': healthcare_expense\n",
    "        }\n",
    "    }\n",
    "    collection.insert_one(user_data)\n",
    "\n",
    "    # Redirect to success page after form submission\n",
    "    return redirect(url_for('success'))\n",
    "\n",
    "# Route to render the success page\n",
    "@app.route('/success')\n",
    "def success():\n",
    "    return render_template('success.html')\n",
    "\n",
    "if __name__ == '__main__':\n",
    "    app.run()"
   ]
  },
  {
   "cell_type": "markdown",
   "id": "ea2d17eb",
   "metadata": {},
   "source": [
    "### Data Processing with Python"
   ]
  },
  {
   "cell_type": "code",
   "execution_count": 10,
   "id": "f27ac446",
   "metadata": {},
   "outputs": [],
   "source": [
    "# creating user class\n",
    "class User:\n",
    "    def __init__(self, age, gender, total_income, expenses):\n",
    "        self.age = age\n",
    "        self.gender = gender\n",
    "        self.total_income = total_income\n",
    "        self.expenses = expenses\n",
    "\n",
    "# Looping through MongoDB data and store in CSV file\n",
    "import csv\n",
    "\n",
    "with open('user_data.csv', mode='w', newline='') as file:\n",
    "    writer = csv.writer(file)\n",
    "    writer.writerow(['Age', 'Gender', 'Total Income', 'Utilities Expense', 'Entertainment Expense', 'School Fees Expense', 'Shopping Expense', 'Healthcare Expense'])\n",
    "    for data in collection.find():\n",
    "        writer.writerow([data['age'], data['gender'], data['total_income'], data['expenses']['utilities'], data['expenses']['entertainment'], data['expenses']['school_fees'], data['expenses']['shopping'], data['expenses']['healthcare']])"
   ]
  },
  {
   "cell_type": "markdown",
   "id": "4a71b50d",
   "metadata": {},
   "source": [
    " ### Data Visualization"
   ]
  },
  {
   "cell_type": "code",
   "execution_count": 12,
   "id": "b924c277",
   "metadata": {},
   "outputs": [
    {
     "ename": "SyntaxError",
     "evalue": "invalid syntax (175812152.py, line 1)",
     "output_type": "error",
     "traceback": [
      "\u001b[1;36m  Cell \u001b[1;32mIn[12], line 1\u001b[1;36m\u001b[0m\n\u001b[1;33m    ```\u001b[0m\n\u001b[1;37m    ^\u001b[0m\n\u001b[1;31mSyntaxError\u001b[0m\u001b[1;31m:\u001b[0m invalid syntax\n"
     ]
    }
   ],
   "source": [
    "# Load CSV data into Jupyter noteboo\n",
    "import pandas as pd\n",
    "\n",
    "df = pd.read_csv('user_data.csv')\n",
    "\n",
    "# Ages with highest income\n",
    "import matplotlib.pyplot as plt\n",
    "\n",
    "plt.hist(df['Age'][df['Total Income'] == df['Total Income'].max()], bins=10)\n",
    "plt.xlabel('Age')\n",
    "plt.ylabel('Frequency')\n",
    "plt.title('Ages with Highest Income')\n",
    "plt.show()\n",
    "\n",
    "# Gender distribution across spending categories\n",
    "gender_expenses = df.groupby('Gender')[['Utilities Expense', 'Entertainment Expense', 'School Fees Expense', 'Shopping Expense', 'Healthcare Expense']].sum()\n",
    "gender_expenses.plot(kind='bar', stacked=True)\n",
    "plt.xlabel('Gender')\n",
    "plt.ylabel('Total Expenses')\n",
    "plt.title('Gender Distribution Across Spending Categories')\n",
    "plt.show()"
   ]
  },
  {
   "cell_type": "code",
   "execution_count": null,
   "id": "8f9e6e32",
   "metadata": {},
   "outputs": [],
   "source": []
  }
 ],
 "metadata": {
  "kernelspec": {
   "display_name": "Python 3 (ipykernel)",
   "language": "python",
   "name": "python3"
  },
  "language_info": {
   "codemirror_mode": {
    "name": "ipython",
    "version": 3
   },
   "file_extension": ".py",
   "mimetype": "text/x-python",
   "name": "python",
   "nbconvert_exporter": "python",
   "pygments_lexer": "ipython3",
   "version": "3.11.4"
  }
 },
 "nbformat": 4,
 "nbformat_minor": 5
}
